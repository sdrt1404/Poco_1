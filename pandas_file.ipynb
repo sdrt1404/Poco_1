{
 "cells": [
  {
   "cell_type": "code",
   "execution_count": null,
   "id": "7cf7f407",
   "metadata": {
    "vscode": {
     "languageId": "plaintext"
    }
   },
   "outputs": [],
   "source": [
    "a = 5677"
   ]
  },
  {
   "cell_type": "code",
   "execution_count": null,
   "id": "2352c2c7",
   "metadata": {
    "vscode": {
     "languageId": "plaintext"
    }
   },
   "outputs": [],
   "source": [
    "b = 98"
   ]
  }
 ],
 "metadata": {
  "language_info": {
   "name": "python"
  }
 },
 "nbformat": 4,
 "nbformat_minor": 5
}
